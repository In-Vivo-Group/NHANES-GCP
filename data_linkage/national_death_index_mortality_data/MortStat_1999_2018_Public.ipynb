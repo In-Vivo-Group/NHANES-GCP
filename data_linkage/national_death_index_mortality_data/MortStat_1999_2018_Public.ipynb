{
 "cells": [
  {
   "cell_type": "markdown",
   "id": "f04fa362",
   "metadata": {},
   "source": [
    "## NDI Mortality Data for 1999 - 2018 NHANES"
   ]
  },
  {
   "cell_type": "markdown",
   "id": "86f7d182",
   "metadata": {},
   "source": [
    "PUBLIC-USE LINKED MORTALITY FOLLOW-UP THROUGH DECEMBER 31, 2019. \n",
    "\n",
    "The public-use Linked Mortality Files (LMF) for 1999-2018 NHANES can be downloaded from [this site](Hellohttps://ftp.cdc.gov/pub/Health_Statistics/NCHS/datalinkage/linked_mortality/). For more information on the data files and data dictionaries visit [this site](https://www.cdc.gov/nchs/data-linkage/mortality-public.htm)\n",
    "\n",
    "The following Python code can be used to read the fixed-width format ASCII public-use Linked\n",
    "Mortality Files (LMFs) from a stored location into a data frame and save as a csv"
   ]
  },
  {
   "cell_type": "markdown",
   "id": "28424889",
   "metadata": {},
   "source": [
    "##### Import Libraries"
   ]
  },
  {
   "cell_type": "code",
   "execution_count": 94,
   "id": "dc3c32b0-addd-4580-b9d9-ab794e040385",
   "metadata": {
    "tags": []
   },
   "outputs": [],
   "source": [
    "import os\n",
    "import pandas as pd\n",
    "import numpy as np"
   ]
  },
  {
   "cell_type": "markdown",
   "id": "e0ceb1f1",
   "metadata": {},
   "source": [
    "##### Define Column and Width Positions"
   ]
  },
  {
   "cell_type": "code",
   "execution_count": 95,
   "id": "c9cfcd13-7106-4b7e-bbe7-d67b28e785bc",
   "metadata": {
    "tags": []
   },
   "outputs": [],
   "source": [
    "nhanes_cols = [(0, 6), (14, 15), (15, 16), (16, 19), (19, 20), (20, 21), (42, 45), (45, 48)]"
   ]
  },
  {
   "cell_type": "markdown",
   "id": "16d3eb4d",
   "metadata": {},
   "source": [
    "##### Define Variable Labels and Value Formats"
   ]
  },
  {
   "cell_type": "code",
   "execution_count": null,
   "id": "df58d4ff",
   "metadata": {},
   "outputs": [],
   "source": [
    "# Note: Variable labels and value formats are not provided in the data, you may need to refer to the data dictionary\n",
    "\n",
    "variable_labels = {\n",
    "    \"ELIGSTAT\": \"Eligibility Status for Mortality Follow-up\",\n",
    "    \"MORTSTAT\": \"Final Mortality Status\",\n",
    "    \"UCOD_LEADING\": \"Underlying Cause of Death: Recode\",\n",
    "    \"DIABETES\": \"Diabetes Flag from Multiple Cause of Death (MCOD)\",\n",
    "    \"HYPERTEN\": \"Hypertension Flag from Multiple Cause of Death (MCOD)\"\n",
    "}\n",
    "value_formats = {\n",
    "    \"ELIGSTAT\": {1: \"Eligible\", 2: \"Under age 18, not available for public release\", 3: \"Ineligible\"},\n",
    "    \"MORTSTAT\": {0: \"Assumed alive\", 1: \"Assumed deceased\"},\n",
    "    \"UCOD_LEADING\": {1: \"Diseases of heart\", 2: \"Malignant neoplasms\", 3: \"Chronic lower respiratory diseases\", \n",
    "                     4: \"Accidents\", 5: \"Cerebrovascular diseases\", 6: \"Alzheimer's disease\", 7: \"Diabetes mellitus\",\n",
    "                     8: \"Influenza and pneumonia\", 9: \"Nephritis, nephrotic syndrome and nephrosis\", 10: \"All other causes\"},\n",
    "    \"DIABETES\": {0: \"No\", 1: \"Yes\"},\n",
    "    \"HYPERTEN\": {0: \"No\", 1: \"Yes\"}\n",
    "}\n"
   ]
  },
  {
   "cell_type": "markdown",
   "id": "34f9376d",
   "metadata": {},
   "source": [
    "##### Function to Extract Start and End Years from Filename"
   ]
  },
  {
   "cell_type": "code",
   "execution_count": null,
   "id": "cf75291b-caaa-40be-8633-1c9f620796c1",
   "metadata": {
    "tags": []
   },
   "outputs": [],
   "source": [
    "\n",
    "def extract_years(filename):\n",
    "    parts = filename.split(\"_\")\n",
    "    start_year, end_year = parts[1], parts[2]\n",
    "    return int(start_year), int(end_year)\n"
   ]
  },
  {
   "cell_type": "markdown",
   "id": "16fd29e5",
   "metadata": {},
   "source": [
    "##### Retrieve all .dat Files"
   ]
  },
  {
   "cell_type": "code",
   "execution_count": 97,
   "id": "a1a2fd68-56e7-48b6-b9ba-842228632601",
   "metadata": {
    "tags": []
   },
   "outputs": [
    {
     "name": "stdout",
     "output_type": "stream",
     "text": [
      "Files in directory: \n",
      "\n",
      "['NHANES_1999_2000_MORT_2019_PUBLIC.dat', 'NHANES_2001_2002_MORT_2019_PUBLIC.dat', 'NHANES_2003_2004_MORT_2019_PUBLIC.dat', 'NHANES_2005_2006_MORT_2019_PUBLIC.dat', 'NHANES_2007_2008_MORT_2019_PUBLIC.dat', 'NHANES_2009_2010_MORT_2019_PUBLIC.dat', 'NHANES_2011_2012_MORT_2019_PUBLIC.dat', 'NHANES_2013_2014_MORT_2019_PUBLIC.dat', 'NHANES_2015_2016_MORT_2019_PUBLIC.dat', 'NHANES_2017_2018_MORT_2019_PUBLIC.dat']\n",
      "\n",
      " with length 10\n"
     ]
    }
   ],
   "source": [
    "dat_files = [file for file in os.listdir(\"Mort data\") if file.endswith(\".dat\")]\n",
    "print(\"Files in directory: \\n\\n\" + str(dat_files) + \"\\n\\n with length \" + str(len(dat_files)))"
   ]
  },
  {
   "cell_type": "markdown",
   "id": "17ec0fbe",
   "metadata": {},
   "source": [
    "##### Read and Store the Data using Fixed-width Format as a DataFrame"
   ]
  },
  {
   "cell_type": "code",
   "execution_count": 98,
   "id": "0d191e3a-644e-481e-a2de-60a740afbe75",
   "metadata": {
    "tags": []
   },
   "outputs": [],
   "source": [
    "all_dataframes = []\n",
    "\n",
    "for filename in dat_files:\n",
    "    nhanes_data = pd.read_fwf(os.path.join(\"Mort data\", filename), colspecs=nhanes_cols, header=None)\n",
    "    nhanes_data.columns = [\"respondent_sequence_number\", \"elig_stat\", \"mort_stat\", \"ucod_leading\", \"diabetes\", \"hyperten\", \"permth_int\", \"permth_exm\"]\n",
    "    \n",
    "    nhanes_data.replace(\".\", np.nan, inplace=True)\n",
    "\n",
    "    start_year, end_year = extract_years(filename)\n",
    "    nhanes_data[\"start_year\"] = start_year\n",
    "    nhanes_data[\"end_year\"] = end_year\n",
    "    \n",
    "    nhanes_data[\"respondent_sequence_number\"] = nhanes_data[\"respondent_sequence_number\"].astype(str).str.zfill(5)\n",
    "    \n",
    "    all_dataframes.append(nhanes_data)\n"
   ]
  },
  {
   "cell_type": "markdown",
   "id": "2a1c7d20",
   "metadata": {},
   "source": [
    "##### Concatenate all Dataframes"
   ]
  },
  {
   "cell_type": "code",
   "execution_count": 100,
   "id": "ff83d94d-03ac-43a6-bbda-dc80fa6814c5",
   "metadata": {
    "tags": []
   },
   "outputs": [
    {
     "data": {
      "text/html": [
       "<div>\n",
       "<style scoped>\n",
       "    .dataframe tbody tr th:only-of-type {\n",
       "        vertical-align: middle;\n",
       "    }\n",
       "\n",
       "    .dataframe tbody tr th {\n",
       "        vertical-align: top;\n",
       "    }\n",
       "\n",
       "    .dataframe thead th {\n",
       "        text-align: right;\n",
       "    }\n",
       "</style>\n",
       "<table border=\"1\" class=\"dataframe\">\n",
       "  <thead>\n",
       "    <tr style=\"text-align: right;\">\n",
       "      <th></th>\n",
       "      <th>respondent_sequence_number</th>\n",
       "      <th>elig_stat</th>\n",
       "      <th>mort_stat</th>\n",
       "      <th>ucod_leading</th>\n",
       "      <th>diabetes</th>\n",
       "      <th>hyperten</th>\n",
       "      <th>permth_int</th>\n",
       "      <th>permth_exm</th>\n",
       "      <th>start_year</th>\n",
       "      <th>end_year</th>\n",
       "    </tr>\n",
       "  </thead>\n",
       "  <tbody>\n",
       "    <tr>\n",
       "      <th>0</th>\n",
       "      <td>00001</td>\n",
       "      <td>2</td>\n",
       "      <td>NaN</td>\n",
       "      <td>NaN</td>\n",
       "      <td>NaN</td>\n",
       "      <td>NaN</td>\n",
       "      <td>NaN</td>\n",
       "      <td>NaN</td>\n",
       "      <td>1999</td>\n",
       "      <td>2000</td>\n",
       "    </tr>\n",
       "    <tr>\n",
       "      <th>1</th>\n",
       "      <td>00002</td>\n",
       "      <td>1</td>\n",
       "      <td>1</td>\n",
       "      <td>6.0</td>\n",
       "      <td>0</td>\n",
       "      <td>0</td>\n",
       "      <td>177</td>\n",
       "      <td>177</td>\n",
       "      <td>1999</td>\n",
       "      <td>2000</td>\n",
       "    </tr>\n",
       "    <tr>\n",
       "      <th>2</th>\n",
       "      <td>00003</td>\n",
       "      <td>2</td>\n",
       "      <td>NaN</td>\n",
       "      <td>NaN</td>\n",
       "      <td>NaN</td>\n",
       "      <td>NaN</td>\n",
       "      <td>NaN</td>\n",
       "      <td>NaN</td>\n",
       "      <td>1999</td>\n",
       "      <td>2000</td>\n",
       "    </tr>\n",
       "    <tr>\n",
       "      <th>3</th>\n",
       "      <td>00004</td>\n",
       "      <td>2</td>\n",
       "      <td>NaN</td>\n",
       "      <td>NaN</td>\n",
       "      <td>NaN</td>\n",
       "      <td>NaN</td>\n",
       "      <td>NaN</td>\n",
       "      <td>NaN</td>\n",
       "      <td>1999</td>\n",
       "      <td>2000</td>\n",
       "    </tr>\n",
       "    <tr>\n",
       "      <th>4</th>\n",
       "      <td>00005</td>\n",
       "      <td>1</td>\n",
       "      <td>0</td>\n",
       "      <td>NaN</td>\n",
       "      <td>NaN</td>\n",
       "      <td>NaN</td>\n",
       "      <td>244</td>\n",
       "      <td>244</td>\n",
       "      <td>1999</td>\n",
       "      <td>2000</td>\n",
       "    </tr>\n",
       "    <tr>\n",
       "      <th>5</th>\n",
       "      <td>00006</td>\n",
       "      <td>1</td>\n",
       "      <td>0</td>\n",
       "      <td>NaN</td>\n",
       "      <td>NaN</td>\n",
       "      <td>NaN</td>\n",
       "      <td>246</td>\n",
       "      <td>245</td>\n",
       "      <td>1999</td>\n",
       "      <td>2000</td>\n",
       "    </tr>\n",
       "    <tr>\n",
       "      <th>6</th>\n",
       "      <td>00007</td>\n",
       "      <td>1</td>\n",
       "      <td>0</td>\n",
       "      <td>NaN</td>\n",
       "      <td>NaN</td>\n",
       "      <td>NaN</td>\n",
       "      <td>237</td>\n",
       "      <td>236</td>\n",
       "      <td>1999</td>\n",
       "      <td>2000</td>\n",
       "    </tr>\n",
       "    <tr>\n",
       "      <th>7</th>\n",
       "      <td>00008</td>\n",
       "      <td>2</td>\n",
       "      <td>NaN</td>\n",
       "      <td>NaN</td>\n",
       "      <td>NaN</td>\n",
       "      <td>NaN</td>\n",
       "      <td>NaN</td>\n",
       "      <td>NaN</td>\n",
       "      <td>1999</td>\n",
       "      <td>2000</td>\n",
       "    </tr>\n",
       "    <tr>\n",
       "      <th>8</th>\n",
       "      <td>00009</td>\n",
       "      <td>2</td>\n",
       "      <td>NaN</td>\n",
       "      <td>NaN</td>\n",
       "      <td>NaN</td>\n",
       "      <td>NaN</td>\n",
       "      <td>NaN</td>\n",
       "      <td>NaN</td>\n",
       "      <td>1999</td>\n",
       "      <td>2000</td>\n",
       "    </tr>\n",
       "    <tr>\n",
       "      <th>9</th>\n",
       "      <td>00010</td>\n",
       "      <td>1</td>\n",
       "      <td>1</td>\n",
       "      <td>1.0</td>\n",
       "      <td>0</td>\n",
       "      <td>0</td>\n",
       "      <td>231</td>\n",
       "      <td>231</td>\n",
       "      <td>1999</td>\n",
       "      <td>2000</td>\n",
       "    </tr>\n",
       "  </tbody>\n",
       "</table>\n",
       "</div>"
      ],
      "text/plain": [
       "  respondent_sequence_number  elig_stat mort_stat  ucod_leading diabetes  \\\n",
       "0                      00001          2       NaN           NaN      NaN   \n",
       "1                      00002          1         1           6.0        0   \n",
       "2                      00003          2       NaN           NaN      NaN   \n",
       "3                      00004          2       NaN           NaN      NaN   \n",
       "4                      00005          1         0           NaN      NaN   \n",
       "5                      00006          1         0           NaN      NaN   \n",
       "6                      00007          1         0           NaN      NaN   \n",
       "7                      00008          2       NaN           NaN      NaN   \n",
       "8                      00009          2       NaN           NaN      NaN   \n",
       "9                      00010          1         1           1.0        0   \n",
       "\n",
       "  hyperten permth_int permth_exm  start_year  end_year  \n",
       "0      NaN        NaN        NaN        1999      2000  \n",
       "1        0        177        177        1999      2000  \n",
       "2      NaN        NaN        NaN        1999      2000  \n",
       "3      NaN        NaN        NaN        1999      2000  \n",
       "4      NaN        244        244        1999      2000  \n",
       "5      NaN        246        245        1999      2000  \n",
       "6      NaN        237        236        1999      2000  \n",
       "7      NaN        NaN        NaN        1999      2000  \n",
       "8      NaN        NaN        NaN        1999      2000  \n",
       "9        0        231        231        1999      2000  "
      ]
     },
     "execution_count": 100,
     "metadata": {},
     "output_type": "execute_result"
    }
   ],
   "source": [
    "combined_data = pd.concat(all_dataframes, ignore_index=True)\n",
    "combined_data.head(10)"
   ]
  },
  {
   "cell_type": "markdown",
   "id": "f45f7b3e",
   "metadata": {},
   "source": [
    "##### Convert the DataFrame to CSV"
   ]
  },
  {
   "cell_type": "code",
   "execution_count": 101,
   "id": "ffabb9bd-1a98-4960-82a0-e844e2dc6f62",
   "metadata": {
    "tags": []
   },
   "outputs": [],
   "source": [
    "combined_data.to_csv(\"NHANES_MORT_1999_2018_PUBLIC.csv\", index=False)"
   ]
  }
 ],
 "metadata": {
  "kernelspec": {
   "display_name": "Python 3 (ipykernel)",
   "language": "python",
   "name": "python3"
  },
  "language_info": {
   "codemirror_mode": {
    "name": "ipython",
    "version": 3
   },
   "file_extension": ".py",
   "mimetype": "text/x-python",
   "name": "python",
   "nbconvert_exporter": "python",
   "pygments_lexer": "ipython3",
   "version": "3.11.3"
  }
 },
 "nbformat": 4,
 "nbformat_minor": 5
}
