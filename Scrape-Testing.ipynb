{
 "cells": [
  {
   "cell_type": "code",
   "execution_count": 1,
   "id": "2e732e2d-539d-49ee-8e4d-731177132c45",
   "metadata": {},
   "outputs": [],
   "source": [
    "import pandas as pd\n",
    "import requests\n",
    "from bs4 import BeautifulSoup\n",
    "import datetime\n",
    "from utils import update_bq_table, generate_filename, upload_blob_from_string\n",
    "bucket_name = 'nhanes'"
   ]
  },
  {
   "cell_type": "code",
   "execution_count": null,
   "id": "c391a3d3-b954-4a08-ac5e-fcabb919171a",
   "metadata": {},
   "outputs": [],
   "source": []
  },
  {
   "cell_type": "code",
   "execution_count": 2,
   "id": "cc774c32-0772-42ea-a89e-7bcb81d60a85",
   "metadata": {},
   "outputs": [],
   "source": [
    "components = [\"Demographics\",\"Dietary\",\"Examination\",\"Laboratory\",\"Questionnaire\",\"LimitedAccess\"]"
   ]
  },
  {
   "cell_type": "code",
   "execution_count": 3,
   "id": "f12d7ecc-c25b-4bb4-954d-05cf07a0a223",
   "metadata": {},
   "outputs": [],
   "source": [
    "dfs = []\n",
    "\n",
    "for component in components: \n",
    "    r = requests.get(f\"https://wwwn.cdc.gov/nchs/nhanes/search/datapage.aspx?Component={component}\")\n",
    "\n",
    "    soup = BeautifulSoup(r.text, 'lxml')\n",
    "\n",
    "    table = soup.find('table',id='GridView1')\n",
    "\n",
    "    headers = []\n",
    "    for i in table.find_all('th'):\n",
    "        title = i.text\n",
    "        headers.append(title)\n",
    "    \n",
    "    if component != 'LimitedAccess':\n",
    "        headers = ['_'.join(h.lower().split()) for h in headers] + ['doc_file_url','data_file_url']\n",
    "    else:\n",
    "        headers = ['_'.join(h.lower().split()) for h in headers] + ['doc_file_url']\n",
    "\n",
    "    base_url = \"https://wwwn.cdc.gov\"\n",
    "\n",
    "    data = []\n",
    "\n",
    "    for j in table.find_all('tr')[1:]:\n",
    "        row_data = j.find_all('td')\n",
    "        row = [i.text for i in row_data] + [base_url + i.a['href'] for i in row_data if i.find('a')]\n",
    "        data.append(row)\n",
    "\n",
    "    df = pd.DataFrame(columns = headers,data=data)\n",
    "\n",
    "    df['years'] = df['years'].str.strip()\n",
    "    df['doc_file'] = df['doc_file'].str.strip()\n",
    "    df['data_file'] = df['data_file'].str.strip()\n",
    "    df['date_published'] = df['date_published'].str.strip().str.replace('Updated ','')\n",
    "    df['start_year'] = df['years'].apply(lambda x: x.split('-')[0]).astype(int)\n",
    "    df['end_year'] = df['years'].apply(lambda x: x.split('-')[1]).astype(int)\n",
    "    df['published_date'] = pd.to_datetime(df['date_published'],format='%B %Y',errors='ignore')\n",
    "    df['page_component'] = component\n",
    "    df['last_updated'] = datetime.datetime.utcnow()\n",
    "    df['gcs_doc_filename'] = (df['data_file_name'] + ' ' + df['start_year'].astype(str) + ' ' + df['end_year'].astype(str) + ' Documentation').apply(lambda x: generate_filename(x,extension='.html'))\n",
    "    df['gcs_data_filename'] = (df['data_file_name'] + ' ' + df['start_year'].astype(str) + ' ' + df['end_year'].astype(str) + ' Data').apply(lambda x: generate_filename(x,extension='.XPT'))\n",
    "    \n",
    "    dfs.append(df)"
   ]
  },
  {
   "cell_type": "code",
   "execution_count": 4,
   "id": "e96fd5c7-2dab-48ba-9239-1b18958056ac",
   "metadata": {},
   "outputs": [
    {
     "name": "stdout",
     "output_type": "stream",
     "text": [
      "nhanes_file_metadata_20231107_041958.csv uploaded to nhanes / nhanes_file_metadata/\n",
      "Starting job ce74d6a9-0118-4227-af90-d1e31b09010a\n",
      "Job finished.\n",
      "Table Row Count 1737 rows.\n"
     ]
    }
   ],
   "source": [
    "final_df = pd.concat(dfs,ignore_index=True)\n",
    "\n",
    "alias = 'nhanes_file_metadata'\n",
    "update_bq_table(final_df, alias, dataset='nhanes',bucket='nhanes', truncate = True, max_error=0, schema=None)"
   ]
  },
  {
   "cell_type": "code",
   "execution_count": 6,
   "id": "db8c0f64-af95-4957-bfa9-f5b52c7bdb9f",
   "metadata": {},
   "outputs": [],
   "source": [
    "# final_df"
   ]
  },
  {
   "cell_type": "code",
   "execution_count": null,
   "id": "35f0a64a-ad6c-4618-a5d6-99e1f6df7b7b",
   "metadata": {},
   "outputs": [
    {
     "name": "stdout",
     "output_type": "stream",
     "text": [
      "demographic_variables_sample_weights_2005_2006_documentation.html uploaded to nhanes / docs/\n",
      "demographic_variables_sample_weights_2007_2008_documentation.html uploaded to nhanes / docs/\n",
      "demographic_variables_sample_weights_2003_2004_documentation.html uploaded to nhanes / docs/\n",
      "demographic_variables_sample_weights_2001_2002_documentation.html uploaded to nhanes / docs/\n",
      "demographic_variables_sample_weights_1999_2000_documentation.html uploaded to nhanes / docs/\n",
      "demographic_variables_sample_weights_2009_2010_documentation.html uploaded to nhanes / docs/\n",
      "demographic_variables_sample_weights_2011_2012_documentation.html uploaded to nhanes / docs/\n",
      "demographic_variables_and_sample_weights_2013_2014_documentation.html uploaded to nhanes / docs/\n",
      "demographic_variables_and_sample_weights_2015_2016_documentation.html uploaded to nhanes / docs/\n",
      "demographic_variables_and_sample_weights_2017_2018_documentation.html uploaded to nhanes / docs/\n",
      "demographic_variables_and_sample_weights_2017_2020_documentation.html uploaded to nhanes / docs/\n",
      "dietary_interview_individual_foods_1999_2000_documentation.html uploaded to nhanes / docs/\n",
      "dietary_interview_individual_foods_2001_2002_documentation.html uploaded to nhanes / docs/\n",
      "dietary_interview_individual_foods_first_day_2003_2004_documentation.html uploaded to nhanes / docs/\n",
      "dietary_interview_individual_foods_first_day_2009_2010_documentation.html uploaded to nhanes / docs/\n",
      "dietary_interview_individual_foods_first_day_2007_2008_documentation.html uploaded to nhanes / docs/\n",
      "dietary_interview_individual_foods_first_day_2011_2012_documentation.html uploaded to nhanes / docs/\n"
     ]
    }
   ],
   "source": [
    "for index, row in final_df.iterrows():\n",
    "    r = requests.get(row['doc_file_url'],stream=True)\n",
    "    html_content = r.content\n",
    "    file_name = row['gcs_doc_filename']\n",
    "    upload_blob_from_string(bucket_name = bucket_name,\n",
    "                            bucket_folder = 'docs/',\n",
    "                            file_name = file_name,\n",
    "                            blob_string = html_content,\n",
    "                            encoding='text/html')\n",
    "    \n",
    "    if row['data_file_url']:\n",
    "        data_file_df = pd.read_sas(row['data_file_url'])\n",
    "        data_file_df.to_parquet(f\"gs://{bucket_name}/data/{row['gcs_data_filename'].replace('.XPT','.parquet')}\")\n",
    "    \n",
    "    \n",
    "    \n",
    "    "
   ]
  },
  {
   "cell_type": "code",
   "execution_count": 23,
   "id": "97bf37b8-01d3-49c4-9cc7-315ebe6549d3",
   "metadata": {},
   "outputs": [
    {
     "data": {
      "text/plain": [
       "'demographic_variables_sample_weights0_2005_1_2007_2_2003_3_2001_4_1999_5_2009_6_2011_7_2013_8_2015_9_2017_10_2017_name_start_year_dtype_int64_0_2006_1_2008_2_2004_3_2002_4_2000_5_2010_6_2012_7_2014_8_2016_9_2018_10_2020_name_end_year_dtype_int64_documentation.html'"
      ]
     },
     "execution_count": 23,
     "metadata": {},
     "output_type": "execute_result"
    }
   ],
   "source": [
    "file_name"
   ]
  }
 ],
 "metadata": {
  "environment": {
   "kernel": "nhanes",
   "name": "pytorch-gpu.2-0.m112",
   "type": "gcloud",
   "uri": "gcr.io/deeplearning-platform-release/pytorch-gpu.2-0:m112"
  },
  "kernelspec": {
   "display_name": "nhanes",
   "language": "python",
   "name": "nhanes"
  },
  "language_info": {
   "codemirror_mode": {
    "name": "ipython",
    "version": 3
   },
   "file_extension": ".py",
   "mimetype": "text/x-python",
   "name": "python",
   "nbconvert_exporter": "python",
   "pygments_lexer": "ipython3",
   "version": "3.11.6"
  }
 },
 "nbformat": 4,
 "nbformat_minor": 5
}
